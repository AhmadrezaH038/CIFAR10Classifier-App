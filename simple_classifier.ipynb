{
 "cells": [
  {
   "cell_type": "code",
   "execution_count": 3,
   "id": "bf9ff3fd",
   "metadata": {},
   "outputs": [],
   "source": [
    "import matplotlib.pyplot as plt\n",
    "import torch\n",
    "from torch import nn\n",
    "from torchvision import datasets, transforms\n",
    "from torchvision import transforms as tfs\n",
    "from torch.utils.data import DataLoader\n"
   ]
  },
  {
   "cell_type": "markdown",
   "id": "93676f5b",
   "metadata": {},
   "source": [
    "# Defined datasets and dataloaders\n",
    "##### - we first set some transforms for batch normalization of data"
   ]
  },
  {
   "cell_type": "code",
   "execution_count": 6,
   "id": "aa70e876",
   "metadata": {},
   "outputs": [
    {
     "name": "stderr",
     "output_type": "stream",
     "text": [
      "<>:10: SyntaxWarning: invalid escape sequence '\\K'\n",
      "<>:20: SyntaxWarning: invalid escape sequence '\\K'\n",
      "<>:10: SyntaxWarning: invalid escape sequence '\\K'\n",
      "<>:20: SyntaxWarning: invalid escape sequence '\\K'\n",
      "C:\\Users\\ahmad\\AppData\\Local\\Temp\\ipykernel_18984\\997862762.py:10: SyntaxWarning: invalid escape sequence '\\K'\n",
      "  root='F:\\KOSOSHER\\my-shits-in-ai\\data',\n",
      "C:\\Users\\ahmad\\AppData\\Local\\Temp\\ipykernel_18984\\997862762.py:20: SyntaxWarning: invalid escape sequence '\\K'\n",
      "  root='F:\\KOSOSHER\\my-shits-in-ai\\data',\n"
     ]
    }
   ],
   "source": [
    "batch_size = 64 if torch.cuda.is_available() else 16\n",
    "\n",
    "transforms = tfs.Compose([\n",
    "    tfs.ToTensor(),\n",
    "    tfs.Normalize((0.4914, 0.4822, 0.4465),\n",
    "                  (0.247, 0.2435, 0.2616))\n",
    "])\n",
    "\n",
    "train_data = datasets.CIFAR10(\n",
    "    root='F:\\KOSOSHER\\my-shits-in-ai\\data',\n",
    "    download=True,\n",
    "    train=True,\n",
    "    transform=transforms,\n",
    ")\n",
    "\n",
    "train_dataloader = DataLoader(train_data, batch_size=batch_size, shuffle=True)\n",
    "\n",
    "\n",
    "test_data = datasets.CIFAR10(\n",
    "    root='F:\\KOSOSHER\\my-shits-in-ai\\data',\n",
    "    download=True,\n",
    "    train=False,\n",
    "    transform=transforms,\n",
    ")\n",
    "\n",
    "test_dataloader = DataLoader(test_data, batch_size=batch_size, shuffle=True)\n"
   ]
  },
  {
   "cell_type": "code",
   "execution_count": null,
   "id": "b1c600aa",
   "metadata": {},
   "outputs": [],
   "source": []
  }
 ],
 "metadata": {
  "kernelspec": {
   "display_name": "base",
   "language": "python",
   "name": "python3"
  },
  "language_info": {
   "codemirror_mode": {
    "name": "ipython",
    "version": 3
   },
   "file_extension": ".py",
   "mimetype": "text/x-python",
   "name": "python",
   "nbconvert_exporter": "python",
   "pygments_lexer": "ipython3",
   "version": "3.12.4"
  }
 },
 "nbformat": 4,
 "nbformat_minor": 5
}
